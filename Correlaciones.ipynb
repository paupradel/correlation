{
 "cells": [
  {
   "cell_type": "markdown",
   "metadata": {},
   "source": [
    "# Correlaciones"
   ]
  },
  {
   "cell_type": "markdown",
   "metadata": {},
   "source": [
    "Se hace la correlación cruzada (cross correlation) entre los distintos contaminantes. Se saca un promedio de todas las estaciones."
   ]
  },
  {
   "cell_type": "markdown",
   "metadata": {},
   "source": [
    "## I. Importar datos."
   ]
  },
  {
   "cell_type": "markdown",
   "metadata": {},
   "source": [
    "Se comienza agregando las bibliotecas necesarias de python al archivo. Las que vienen por default en este notebook son las requeridas para importar y exportar archivos _csv_, manipular dataframes en _pandas_, graficar resultados usando _seaborn_ con algún nivel de interactividad haciendo uso de _widgets_.\n",
    "\n",
    "Dependiendo del tipo de archivo en donde se tengan los datos, o bien la herramienta de visualización, se deben agregar las bibliotecas necesarias.\n",
    "\n",
    "Se debe de tomar en cuenta el path en el que se encuentre el archivo con los datos y modificarlo a demanda en la parte correspondiente.\n",
    "\n",
    "Es necesario que el archivo con los datos **ya se encuentre limpio** para correr este notebook. De lo contrario pueden aparecer resultados no deseados o \"raros\" en las matrices de correlación."
   ]
  },
  {
   "cell_type": "code",
   "execution_count": 15,
   "metadata": {},
   "outputs": [],
   "source": [
    "# Bibliotecas necesarias para correr este notebook\n",
    "\n",
    "from __future__ import print_function\n",
    "from ipywidgets import interact, interactive, fixed, interact_manual\n",
    "import ipywidgets as widgets\n",
    "\n",
    "from scipy import stats\n",
    "\n",
    "import os\n",
    "import numpy as np\n",
    "import pandas as pd\n",
    "import matplotlib.pyplot as plt\n",
    "import seaborn as sns\n",
    "\n",
    "import warnings\n",
    "warnings.filterwarnings('ignore')\n",
    "\n",
    "\n",
    "# Modificar el \"path\" del directorio de trabajo\n",
    "os.chdir(\"/home/pradel/Desktop/correlation/\")"
   ]
  },
  {
   "cell_type": "code",
   "execution_count": 3,
   "metadata": {},
   "outputs": [],
   "source": [
    "# Se importa el archivo csv con los datos usando pandas (se carga como un dataframe)\n",
    "\n",
    "data = pd.read_csv(\"/home/pradel/Desktop/correlation/data_sample.csv\")"
   ]
  },
  {
   "cell_type": "code",
   "execution_count": 4,
   "metadata": {},
   "outputs": [
    {
     "data": {
      "text/html": [
       "<div>\n",
       "<style scoped>\n",
       "    .dataframe tbody tr th:only-of-type {\n",
       "        vertical-align: middle;\n",
       "    }\n",
       "\n",
       "    .dataframe tbody tr th {\n",
       "        vertical-align: top;\n",
       "    }\n",
       "\n",
       "    .dataframe thead th {\n",
       "        text-align: right;\n",
       "    }\n",
       "</style>\n",
       "<table border=\"1\" class=\"dataframe\">\n",
       "  <thead>\n",
       "    <tr style=\"text-align: right;\">\n",
       "      <th></th>\n",
       "      <th>fecha</th>\n",
       "      <th>UVA</th>\n",
       "      <th>UVB</th>\n",
       "      <th>PA</th>\n",
       "      <th>CO</th>\n",
       "      <th>NO</th>\n",
       "      <th>NO2</th>\n",
       "      <th>NOX</th>\n",
       "      <th>O3</th>\n",
       "      <th>PM2.5</th>\n",
       "      <th>PMCO</th>\n",
       "      <th>SO2</th>\n",
       "      <th>RH</th>\n",
       "      <th>TMP</th>\n",
       "      <th>WSP</th>\n",
       "      <th>WDR</th>\n",
       "      <th>PM10</th>\n",
       "    </tr>\n",
       "  </thead>\n",
       "  <tbody>\n",
       "    <tr>\n",
       "      <th>0</th>\n",
       "      <td>2012-01-01 00:00:00</td>\n",
       "      <td>0.0</td>\n",
       "      <td>0.0</td>\n",
       "      <td>590.0</td>\n",
       "      <td>0.3</td>\n",
       "      <td>2.6</td>\n",
       "      <td>13.8</td>\n",
       "      <td>16.2</td>\n",
       "      <td>15.1</td>\n",
       "      <td>9.4</td>\n",
       "      <td>6.3</td>\n",
       "      <td>1.6</td>\n",
       "      <td>68.3</td>\n",
       "      <td>11.4</td>\n",
       "      <td>3.2</td>\n",
       "      <td>294.9</td>\n",
       "      <td>14.8</td>\n",
       "    </tr>\n",
       "    <tr>\n",
       "      <th>1</th>\n",
       "      <td>2012-01-01 01:00:00</td>\n",
       "      <td>0.0</td>\n",
       "      <td>0.0</td>\n",
       "      <td>587.0</td>\n",
       "      <td>1.4</td>\n",
       "      <td>30.0</td>\n",
       "      <td>39.8</td>\n",
       "      <td>69.5</td>\n",
       "      <td>5.5</td>\n",
       "      <td>77.0</td>\n",
       "      <td>136.9</td>\n",
       "      <td>7.2</td>\n",
       "      <td>68.8</td>\n",
       "      <td>9.7</td>\n",
       "      <td>1.4</td>\n",
       "      <td>180.0</td>\n",
       "      <td>174.3</td>\n",
       "    </tr>\n",
       "    <tr>\n",
       "      <th>2</th>\n",
       "      <td>2012-01-01 02:00:00</td>\n",
       "      <td>0.0</td>\n",
       "      <td>0.0</td>\n",
       "      <td>587.0</td>\n",
       "      <td>1.7</td>\n",
       "      <td>39.7</td>\n",
       "      <td>40.0</td>\n",
       "      <td>79.6</td>\n",
       "      <td>4.3</td>\n",
       "      <td>121.0</td>\n",
       "      <td>38.0</td>\n",
       "      <td>8.2</td>\n",
       "      <td>72.6</td>\n",
       "      <td>9.1</td>\n",
       "      <td>1.6</td>\n",
       "      <td>139.6</td>\n",
       "      <td>164.6</td>\n",
       "    </tr>\n",
       "    <tr>\n",
       "      <th>3</th>\n",
       "      <td>2012-01-01 03:00:00</td>\n",
       "      <td>0.0</td>\n",
       "      <td>0.0</td>\n",
       "      <td>587.0</td>\n",
       "      <td>1.8</td>\n",
       "      <td>40.8</td>\n",
       "      <td>39.1</td>\n",
       "      <td>79.6</td>\n",
       "      <td>4.6</td>\n",
       "      <td>125.1</td>\n",
       "      <td>36.7</td>\n",
       "      <td>7.6</td>\n",
       "      <td>74.1</td>\n",
       "      <td>8.6</td>\n",
       "      <td>1.1</td>\n",
       "      <td>232.6</td>\n",
       "      <td>172.9</td>\n",
       "    </tr>\n",
       "    <tr>\n",
       "      <th>4</th>\n",
       "      <td>2012-01-01 04:00:00</td>\n",
       "      <td>0.0</td>\n",
       "      <td>0.0</td>\n",
       "      <td>587.0</td>\n",
       "      <td>2.0</td>\n",
       "      <td>51.2</td>\n",
       "      <td>37.8</td>\n",
       "      <td>88.9</td>\n",
       "      <td>4.1</td>\n",
       "      <td>129.6</td>\n",
       "      <td>37.0</td>\n",
       "      <td>6.9</td>\n",
       "      <td>75.3</td>\n",
       "      <td>8.2</td>\n",
       "      <td>1.0</td>\n",
       "      <td>225.6</td>\n",
       "      <td>167.6</td>\n",
       "    </tr>\n",
       "  </tbody>\n",
       "</table>\n",
       "</div>"
      ],
      "text/plain": [
       "                 fecha  UVA  UVB     PA   CO    NO   NO2   NOX    O3  PM2.5  \\\n",
       "0  2012-01-01 00:00:00  0.0  0.0  590.0  0.3   2.6  13.8  16.2  15.1    9.4   \n",
       "1  2012-01-01 01:00:00  0.0  0.0  587.0  1.4  30.0  39.8  69.5   5.5   77.0   \n",
       "2  2012-01-01 02:00:00  0.0  0.0  587.0  1.7  39.7  40.0  79.6   4.3  121.0   \n",
       "3  2012-01-01 03:00:00  0.0  0.0  587.0  1.8  40.8  39.1  79.6   4.6  125.1   \n",
       "4  2012-01-01 04:00:00  0.0  0.0  587.0  2.0  51.2  37.8  88.9   4.1  129.6   \n",
       "\n",
       "    PMCO  SO2    RH   TMP  WSP    WDR   PM10  \n",
       "0    6.3  1.6  68.3  11.4  3.2  294.9   14.8  \n",
       "1  136.9  7.2  68.8   9.7  1.4  180.0  174.3  \n",
       "2   38.0  8.2  72.6   9.1  1.6  139.6  164.6  \n",
       "3   36.7  7.6  74.1   8.6  1.1  232.6  172.9  \n",
       "4   37.0  6.9  75.3   8.2  1.0  225.6  167.6  "
      ]
     },
     "execution_count": 4,
     "metadata": {},
     "output_type": "execute_result"
    }
   ],
   "source": [
    "# Se obtienen las primeras 5 filas de nuestro dataframe\n",
    "\n",
    "data.head() "
   ]
  },
  {
   "cell_type": "markdown",
   "metadata": {},
   "source": [
    "## II. Correlaciones"
   ]
  },
  {
   "cell_type": "markdown",
   "metadata": {},
   "source": [
    "La correlación es una herramienta estadística que describe el grado en el que se relacionan dos variables.\n",
    "\n",
    "- Es _positiva_ cuando ambos valores incrementan juntos.\n",
    "- Es _negativa_ cuando un valor disminuye mientras el otro incrementa.\n",
    "\n",
    "La correlación esta normalizada con valores de $-1$ a $1$. Cuando la correlación es $0$ no existe la misma."
   ]
  },
  {
   "cell_type": "markdown",
   "metadata": {},
   "source": [
    "Para calcular las correlaciones se usa lo siguiente:"
   ]
  },
  {
   "cell_type": "markdown",
   "metadata": {},
   "source": [
    "\\begin{eqnarray}\n",
    "r_{xy} = \\frac{\\displaystyle\\sum_{i=1}^{n} (x_{i}-\\bar{x})(y_{i}-\\bar{y})}{\\sqrt{\\displaystyle\\sum_{i=1}^{n}(x_{i}-\\bar{x})^{2}\\displaystyle\\sum_{i=1}^{n}(y_{i}-\\bar{y})^{2}}}\n",
    "\\end{eqnarray}"
   ]
  },
  {
   "cell_type": "markdown",
   "metadata": {},
   "source": [
    "Usando el método `corr` en `pandas` se obtiene la matriz de correlación entre las variables.\n",
    "\n",
    "Se pueden mostrar las correlaciones específicas entre cada variable a demanda, usando un widget interactivo de python. De esta manera no se pierde uno buscando valores en la matriz."
   ]
  },
  {
   "cell_type": "code",
   "execution_count": 5,
   "metadata": {},
   "outputs": [
    {
     "data": {
      "application/vnd.jupyter.widget-view+json": {
       "model_id": "b828904d9cd2489a9a14e3b3fcd57f27",
       "version_major": 2,
       "version_minor": 0
      },
      "text/plain": [
       "interactive(children=(Dropdown(description='X', options=('UVA', 'UVB', 'PA', 'CO', 'NO', 'NO2', 'NOX', 'O3', '…"
      ]
     },
     "metadata": {},
     "output_type": "display_data"
    }
   ],
   "source": [
    "@interact\n",
    "def correlaciones(X = list(data.select_dtypes('number').columns),\n",
    "                  Y = list(data.select_dtypes('number').columns)):\n",
    "        \n",
    "    print(f\"Correlación: {data[X].corr(data[Y])}\")"
   ]
  },
  {
   "cell_type": "code",
   "execution_count": 6,
   "metadata": {},
   "outputs": [],
   "source": [
    "data_corr = data.corr()"
   ]
  },
  {
   "cell_type": "code",
   "execution_count": 7,
   "metadata": {},
   "outputs": [
    {
     "data": {
      "text/html": [
       "<div>\n",
       "<style scoped>\n",
       "    .dataframe tbody tr th:only-of-type {\n",
       "        vertical-align: middle;\n",
       "    }\n",
       "\n",
       "    .dataframe tbody tr th {\n",
       "        vertical-align: top;\n",
       "    }\n",
       "\n",
       "    .dataframe thead th {\n",
       "        text-align: right;\n",
       "    }\n",
       "</style>\n",
       "<table border=\"1\" class=\"dataframe\">\n",
       "  <thead>\n",
       "    <tr style=\"text-align: right;\">\n",
       "      <th></th>\n",
       "      <th>UVA</th>\n",
       "      <th>UVB</th>\n",
       "      <th>PA</th>\n",
       "      <th>CO</th>\n",
       "      <th>NO</th>\n",
       "      <th>NO2</th>\n",
       "      <th>NOX</th>\n",
       "      <th>O3</th>\n",
       "      <th>PM2.5</th>\n",
       "      <th>PMCO</th>\n",
       "      <th>SO2</th>\n",
       "      <th>RH</th>\n",
       "      <th>TMP</th>\n",
       "      <th>WSP</th>\n",
       "      <th>WDR</th>\n",
       "      <th>PM10</th>\n",
       "    </tr>\n",
       "  </thead>\n",
       "  <tbody>\n",
       "    <tr>\n",
       "      <th>UVA</th>\n",
       "      <td>1.000000</td>\n",
       "      <td>0.955600</td>\n",
       "      <td>0.107344</td>\n",
       "      <td>-0.046440</td>\n",
       "      <td>-0.127991</td>\n",
       "      <td>-0.113325</td>\n",
       "      <td>-0.140269</td>\n",
       "      <td>0.637839</td>\n",
       "      <td>0.275274</td>\n",
       "      <td>0.128521</td>\n",
       "      <td>-0.007434</td>\n",
       "      <td>-0.475098</td>\n",
       "      <td>0.579646</td>\n",
       "      <td>0.162357</td>\n",
       "      <td>-0.276112</td>\n",
       "      <td>0.123386</td>\n",
       "    </tr>\n",
       "    <tr>\n",
       "      <th>UVB</th>\n",
       "      <td>0.955600</td>\n",
       "      <td>1.000000</td>\n",
       "      <td>0.069185</td>\n",
       "      <td>-0.089377</td>\n",
       "      <td>-0.166616</td>\n",
       "      <td>-0.131420</td>\n",
       "      <td>-0.177312</td>\n",
       "      <td>0.630518</td>\n",
       "      <td>0.249498</td>\n",
       "      <td>0.093927</td>\n",
       "      <td>-0.018032</td>\n",
       "      <td>-0.466078</td>\n",
       "      <td>0.561885</td>\n",
       "      <td>0.160466</td>\n",
       "      <td>-0.256995</td>\n",
       "      <td>0.086847</td>\n",
       "    </tr>\n",
       "    <tr>\n",
       "      <th>PA</th>\n",
       "      <td>0.107344</td>\n",
       "      <td>0.069185</td>\n",
       "      <td>1.000000</td>\n",
       "      <td>0.184208</td>\n",
       "      <td>0.099352</td>\n",
       "      <td>0.089986</td>\n",
       "      <td>0.109460</td>\n",
       "      <td>-0.113144</td>\n",
       "      <td>0.102240</td>\n",
       "      <td>0.120426</td>\n",
       "      <td>0.069579</td>\n",
       "      <td>0.010163</td>\n",
       "      <td>-0.098367</td>\n",
       "      <td>-0.082458</td>\n",
       "      <td>0.088179</td>\n",
       "      <td>0.076456</td>\n",
       "    </tr>\n",
       "    <tr>\n",
       "      <th>CO</th>\n",
       "      <td>-0.046440</td>\n",
       "      <td>-0.089377</td>\n",
       "      <td>0.184208</td>\n",
       "      <td>1.000000</td>\n",
       "      <td>0.870824</td>\n",
       "      <td>0.726255</td>\n",
       "      <td>0.939645</td>\n",
       "      <td>-0.307126</td>\n",
       "      <td>0.526708</td>\n",
       "      <td>0.470420</td>\n",
       "      <td>0.177904</td>\n",
       "      <td>0.101937</td>\n",
       "      <td>-0.318787</td>\n",
       "      <td>-0.471834</td>\n",
       "      <td>-0.185674</td>\n",
       "      <td>0.593283</td>\n",
       "    </tr>\n",
       "    <tr>\n",
       "      <th>NO</th>\n",
       "      <td>-0.127991</td>\n",
       "      <td>-0.166616</td>\n",
       "      <td>0.099352</td>\n",
       "      <td>0.870824</td>\n",
       "      <td>1.000000</td>\n",
       "      <td>0.460770</td>\n",
       "      <td>0.956901</td>\n",
       "      <td>-0.434313</td>\n",
       "      <td>0.291982</td>\n",
       "      <td>0.373522</td>\n",
       "      <td>0.168676</td>\n",
       "      <td>0.210691</td>\n",
       "      <td>-0.464448</td>\n",
       "      <td>-0.463052</td>\n",
       "      <td>-0.101504</td>\n",
       "      <td>0.423978</td>\n",
       "    </tr>\n",
       "  </tbody>\n",
       "</table>\n",
       "</div>"
      ],
      "text/plain": [
       "          UVA       UVB        PA        CO        NO       NO2       NOX  \\\n",
       "UVA  1.000000  0.955600  0.107344 -0.046440 -0.127991 -0.113325 -0.140269   \n",
       "UVB  0.955600  1.000000  0.069185 -0.089377 -0.166616 -0.131420 -0.177312   \n",
       "PA   0.107344  0.069185  1.000000  0.184208  0.099352  0.089986  0.109460   \n",
       "CO  -0.046440 -0.089377  0.184208  1.000000  0.870824  0.726255  0.939645   \n",
       "NO  -0.127991 -0.166616  0.099352  0.870824  1.000000  0.460770  0.956901   \n",
       "\n",
       "           O3     PM2.5      PMCO       SO2        RH       TMP       WSP  \\\n",
       "UVA  0.637839  0.275274  0.128521 -0.007434 -0.475098  0.579646  0.162357   \n",
       "UVB  0.630518  0.249498  0.093927 -0.018032 -0.466078  0.561885  0.160466   \n",
       "PA  -0.113144  0.102240  0.120426  0.069579  0.010163 -0.098367 -0.082458   \n",
       "CO  -0.307126  0.526708  0.470420  0.177904  0.101937 -0.318787 -0.471834   \n",
       "NO  -0.434313  0.291982  0.373522  0.168676  0.210691 -0.464448 -0.463052   \n",
       "\n",
       "          WDR      PM10  \n",
       "UVA -0.276112  0.123386  \n",
       "UVB -0.256995  0.086847  \n",
       "PA   0.088179  0.076456  \n",
       "CO  -0.185674  0.593283  \n",
       "NO  -0.101504  0.423978  "
      ]
     },
     "execution_count": 7,
     "metadata": {},
     "output_type": "execute_result"
    }
   ],
   "source": [
    "data_corr.head()"
   ]
  },
  {
   "cell_type": "markdown",
   "metadata": {},
   "source": [
    "Se grafica la correlación como un heatmap."
   ]
  },
  {
   "cell_type": "code",
   "execution_count": 8,
   "metadata": {},
   "outputs": [
    {
     "data": {
      "image/png": "[encoded data removed]",
      "text/plain": [
       "<Figure size 1080x720 with 2 Axes>"
      ]
     },
     "metadata": {
      "needs_background": "light"
     },
     "output_type": "display_data"
    }
   ],
   "source": [
    "import matplotlib.pyplot as plt\n",
    "import numpy as np\n",
    "import seaborn as sns\n",
    "colormap = plt.cm.RdBu_r\n",
    "plt.figure(figsize=(15,10))\n",
    "plt.title(u'Correlación entre contaminantes de 2012 a 2018', y=1.05, size=16)\n",
    "\n",
    "mask = np.zeros_like(data_corr)\n",
    "mask[np.triu_indices_from(mask)] = True\n",
    "\n",
    "svm = sns.heatmap(data_corr, mask=mask, linewidths=0.1,vmin = -1.0, vmax=1.0, \n",
    "            square=True, cmap=colormap, linecolor='white', annot=True)"
   ]
  },
  {
   "cell_type": "code",
   "execution_count": 9,
   "metadata": {},
   "outputs": [
    {
     "name": "stderr",
     "output_type": "stream",
     "text": [
      "/home/pradel/miniconda3/envs/pradel_gpd/lib/python3.6/site-packages/plotly/graph_objs/_deprecations.py:558: DeprecationWarning:\n",
      "\n",
      "plotly.graph_objs.YAxis is deprecated.\n",
      "Please replace it with one of the following more specific types\n",
      "  - plotly.graph_objs.layout.YAxis\n",
      "  - plotly.graph_objs.layout.scene.YAxis\n",
      "\n",
      "\n",
      "/home/pradel/miniconda3/envs/pradel_gpd/lib/python3.6/site-packages/plotly/graph_objs/_deprecations.py:531: DeprecationWarning:\n",
      "\n",
      "plotly.graph_objs.XAxis is deprecated.\n",
      "Please replace it with one of the following more specific types\n",
      "  - plotly.graph_objs.layout.XAxis\n",
      "  - plotly.graph_objs.layout.scene.XAxis\n",
      "\n",
      "\n"
     ]
    },
    {
     "data": {
      "application/vnd.jupyter.widget-view+json": {
       "model_id": "7095d1d9a53846348e87c6b2ae3739ce",
       "version_major": 2,
       "version_minor": 0
      },
      "text/plain": [
       "interactive(children=(FloatSlider(value=0.5, description='x', max=1.0), Output()), _dom_classes=('widget-inter…"
      ]
     },
     "metadata": {},
     "output_type": "display_data"
    }
   ],
   "source": [
    "import cufflinks as cf\n",
    "\n",
    "@interact\n",
    "def matriz(x = (0.0,1.0,0.1)):\n",
    "    colormap = plt.cm.RdBu_r\n",
    "    plt.figure(figsize = (17,12))\n",
    "    plt.title(u'Correlaciones', y = 1.05, size = 16)\n",
    "    \n",
    "    testing = data.corr() # 'Copia' de la matriz de correlación\n",
    "    indices = abs(testing) >= x # Encontrar los valores mayores o iguales a x en la matriz de correlación\n",
    "    testing[indices] = 0 # Los valores que cumplen la condición se hacen cero (enmascaramiento)\n",
    "                      \n",
    "    mask = testing[indices].to_numpy() # Construimos un arreglo con el enmascaramiento\n",
    "    mask[np.triu_indices_from(mask)] = True\n",
    "    \n",
    "    ind_row = []\n",
    "    for i in range(len(mask)):\n",
    "        if (0 in mask[i]) == False:\n",
    "            ind_row.append(i)\n",
    "            \n",
    "    mask = np.delete(mask, ind_row, 0)\n",
    "    \n",
    "    t2 = data.corr()\n",
    "    t2.drop(t2.index[ind_row], inplace=True)\n",
    "    \n",
    "    mask_col = np.transpose(mask)\n",
    "    ind_col = []\n",
    "    for j in range(len(mask_col)):\n",
    "        if (0 in mask_col[j]) == False:\n",
    "            ind_col.append(j)\n",
    "        \n",
    "    mask = np.delete(mask, ind_col, 1)\n",
    "    \n",
    "    t2.drop(t2.columns[ind_col],axis=1,inplace=True)\n",
    "          \n",
    "    svm = sns.heatmap(t2, mask=mask, linewidths = 0.1, vmin = -1.0, vmax = 1.0,\n",
    "                     square = True, cmap = colormap, linecolor = 'white', annot = True, annot_kws={\"fontsize\":13})"
   ]
  },
  {
   "cell_type": "markdown",
   "metadata": {},
   "source": [
    "## III. Autocorrelaciones y Correlaciones Cruzadas"
   ]
  },
  {
   "cell_type": "markdown",
   "metadata": {},
   "source": [
    "Si nuestro dataset tiene mediciones de tiempo es posible calcular las correlaciones cruzadas (correlación entre dos variables distintas a diferentes instantes de tiempo, es decir un _lag_) o bien la autocorrelación (correlación entre una misma variable a diferentes instantes de tiempo)."
   ]
  },
  {
   "cell_type": "markdown",
   "metadata": {},
   "source": [
    "### A 72 horas"
   ]
  },
  {
   "cell_type": "code",
   "execution_count": 23,
   "metadata": {},
   "outputs": [],
   "source": [
    "def data_lag(df,lag=0,NON_DER=['fecha']):\n",
    "    df = df.copy()\n",
    "    if not lag:\n",
    "        return df\n",
    "    cols ={}\n",
    "    for i in range(1,lag+1):\n",
    "        for x in list(df.columns):\n",
    "            if x not in NON_DER:\n",
    "                if not x in cols:\n",
    "                    cols[x] = ['{}_{}'.format(x, i)]\n",
    "                else:\n",
    "                    cols[x].append('{}_{}'.format(x, i))\n",
    "    for k,v in cols.items():\n",
    "        columns = v\n",
    "        dfn = pd.DataFrame(data=None, columns=columns, index=df.index)    \n",
    "        i = 1\n",
    "        for c in columns:\n",
    "            dfn[c] = df[k].shift(periods=i)\n",
    "            i+=1\n",
    "        df = pd.concat([df, dfn], axis=1, join_axes=[df.index])\n",
    "    return df"
   ]
  },
  {
   "cell_type": "code",
   "execution_count": 25,
   "metadata": {},
   "outputs": [],
   "source": [
    "data_72 = data_lag(data, 72)"
   ]
  },
  {
   "cell_type": "code",
   "execution_count": 26,
   "metadata": {},
   "outputs": [],
   "source": [
    "data_72_corr = data_72.corr()"
   ]
  },
  {
   "cell_type": "code",
   "execution_count": 27,
   "metadata": {},
   "outputs": [
    {
     "data": {
      "text/html": [
       "<div>\n",
       "<style scoped>\n",
       "    .dataframe tbody tr th:only-of-type {\n",
       "        vertical-align: middle;\n",
       "    }\n",
       "\n",
       "    .dataframe tbody tr th {\n",
       "        vertical-align: top;\n",
       "    }\n",
       "\n",
       "    .dataframe thead th {\n",
       "        text-align: right;\n",
       "    }\n",
       "</style>\n",
       "<table border=\"1\" class=\"dataframe\">\n",
       "  <thead>\n",
       "    <tr style=\"text-align: right;\">\n",
       "      <th></th>\n",
       "      <th>UVA</th>\n",
       "      <th>UVB</th>\n",
       "      <th>PA</th>\n",
       "      <th>CO</th>\n",
       "      <th>NO</th>\n",
       "      <th>NO2</th>\n",
       "      <th>NOX</th>\n",
       "      <th>O3</th>\n",
       "      <th>PM2.5</th>\n",
       "      <th>PMCO</th>\n",
       "      <th>...</th>\n",
       "      <th>PM10_63</th>\n",
       "      <th>PM10_64</th>\n",
       "      <th>PM10_65</th>\n",
       "      <th>PM10_66</th>\n",
       "      <th>PM10_67</th>\n",
       "      <th>PM10_68</th>\n",
       "      <th>PM10_69</th>\n",
       "      <th>PM10_70</th>\n",
       "      <th>PM10_71</th>\n",
       "      <th>PM10_72</th>\n",
       "    </tr>\n",
       "  </thead>\n",
       "  <tbody>\n",
       "    <tr>\n",
       "      <th>UVA</th>\n",
       "      <td>1.000000</td>\n",
       "      <td>0.955600</td>\n",
       "      <td>0.107344</td>\n",
       "      <td>-0.046440</td>\n",
       "      <td>-0.127991</td>\n",
       "      <td>-0.113325</td>\n",
       "      <td>-0.140269</td>\n",
       "      <td>0.637839</td>\n",
       "      <td>0.275274</td>\n",
       "      <td>0.128521</td>\n",
       "      <td>...</td>\n",
       "      <td>-0.107520</td>\n",
       "      <td>-0.050330</td>\n",
       "      <td>-0.003417</td>\n",
       "      <td>0.027704</td>\n",
       "      <td>0.043911</td>\n",
       "      <td>0.051076</td>\n",
       "      <td>0.057821</td>\n",
       "      <td>0.071974</td>\n",
       "      <td>0.099092</td>\n",
       "      <td>0.138199</td>\n",
       "    </tr>\n",
       "    <tr>\n",
       "      <th>UVB</th>\n",
       "      <td>0.955600</td>\n",
       "      <td>1.000000</td>\n",
       "      <td>0.069185</td>\n",
       "      <td>-0.089377</td>\n",
       "      <td>-0.166616</td>\n",
       "      <td>-0.131420</td>\n",
       "      <td>-0.177312</td>\n",
       "      <td>0.630518</td>\n",
       "      <td>0.249498</td>\n",
       "      <td>0.093927</td>\n",
       "      <td>...</td>\n",
       "      <td>-0.093490</td>\n",
       "      <td>-0.034818</td>\n",
       "      <td>0.013792</td>\n",
       "      <td>0.044059</td>\n",
       "      <td>0.054882</td>\n",
       "      <td>0.052442</td>\n",
       "      <td>0.047525</td>\n",
       "      <td>0.051722</td>\n",
       "      <td>0.073757</td>\n",
       "      <td>0.113481</td>\n",
       "    </tr>\n",
       "    <tr>\n",
       "      <th>PA</th>\n",
       "      <td>0.107344</td>\n",
       "      <td>0.069185</td>\n",
       "      <td>1.000000</td>\n",
       "      <td>0.184208</td>\n",
       "      <td>0.099352</td>\n",
       "      <td>0.089986</td>\n",
       "      <td>0.109460</td>\n",
       "      <td>-0.113144</td>\n",
       "      <td>0.102240</td>\n",
       "      <td>0.120426</td>\n",
       "      <td>...</td>\n",
       "      <td>0.113514</td>\n",
       "      <td>0.107144</td>\n",
       "      <td>0.097463</td>\n",
       "      <td>0.087730</td>\n",
       "      <td>0.079488</td>\n",
       "      <td>0.074966</td>\n",
       "      <td>0.073672</td>\n",
       "      <td>0.074932</td>\n",
       "      <td>0.078084</td>\n",
       "      <td>0.080416</td>\n",
       "    </tr>\n",
       "    <tr>\n",
       "      <th>CO</th>\n",
       "      <td>-0.046440</td>\n",
       "      <td>-0.089377</td>\n",
       "      <td>0.184208</td>\n",
       "      <td>1.000000</td>\n",
       "      <td>0.870824</td>\n",
       "      <td>0.726255</td>\n",
       "      <td>0.939645</td>\n",
       "      <td>-0.307126</td>\n",
       "      <td>0.526708</td>\n",
       "      <td>0.470420</td>\n",
       "      <td>...</td>\n",
       "      <td>0.190026</td>\n",
       "      <td>0.152279</td>\n",
       "      <td>0.120263</td>\n",
       "      <td>0.107418</td>\n",
       "      <td>0.122048</td>\n",
       "      <td>0.162460</td>\n",
       "      <td>0.215321</td>\n",
       "      <td>0.263293</td>\n",
       "      <td>0.290061</td>\n",
       "      <td>0.275544</td>\n",
       "    </tr>\n",
       "    <tr>\n",
       "      <th>NO</th>\n",
       "      <td>-0.127991</td>\n",
       "      <td>-0.166616</td>\n",
       "      <td>0.099352</td>\n",
       "      <td>0.870824</td>\n",
       "      <td>1.000000</td>\n",
       "      <td>0.460770</td>\n",
       "      <td>0.956901</td>\n",
       "      <td>-0.434313</td>\n",
       "      <td>0.291982</td>\n",
       "      <td>0.373522</td>\n",
       "      <td>...</td>\n",
       "      <td>0.150177</td>\n",
       "      <td>0.123662</td>\n",
       "      <td>0.105905</td>\n",
       "      <td>0.106326</td>\n",
       "      <td>0.129356</td>\n",
       "      <td>0.169737</td>\n",
       "      <td>0.211755</td>\n",
       "      <td>0.236967</td>\n",
       "      <td>0.231434</td>\n",
       "      <td>0.181179</td>\n",
       "    </tr>\n",
       "  </tbody>\n",
       "</table>\n",
       "<p>5 rows × 1168 columns</p>\n",
       "</div>"
      ],
      "text/plain": [
       "          UVA       UVB        PA        CO        NO       NO2       NOX  \\\n",
       "UVA  1.000000  0.955600  0.107344 -0.046440 -0.127991 -0.113325 -0.140269   \n",
       "UVB  0.955600  1.000000  0.069185 -0.089377 -0.166616 -0.131420 -0.177312   \n",
       "PA   0.107344  0.069185  1.000000  0.184208  0.099352  0.089986  0.109460   \n",
       "CO  -0.046440 -0.089377  0.184208  1.000000  0.870824  0.726255  0.939645   \n",
       "NO  -0.127991 -0.166616  0.099352  0.870824  1.000000  0.460770  0.956901   \n",
       "\n",
       "           O3     PM2.5      PMCO  ...   PM10_63   PM10_64   PM10_65  \\\n",
       "UVA  0.637839  0.275274  0.128521  ... -0.107520 -0.050330 -0.003417   \n",
       "UVB  0.630518  0.249498  0.093927  ... -0.093490 -0.034818  0.013792   \n",
       "PA  -0.113144  0.102240  0.120426  ...  0.113514  0.107144  0.097463   \n",
       "CO  -0.307126  0.526708  0.470420  ...  0.190026  0.152279  0.120263   \n",
       "NO  -0.434313  0.291982  0.373522  ...  0.150177  0.123662  0.105905   \n",
       "\n",
       "      PM10_66   PM10_67   PM10_68   PM10_69   PM10_70   PM10_71   PM10_72  \n",
       "UVA  0.027704  0.043911  0.051076  0.057821  0.071974  0.099092  0.138199  \n",
       "UVB  0.044059  0.054882  0.052442  0.047525  0.051722  0.073757  0.113481  \n",
       "PA   0.087730  0.079488  0.074966  0.073672  0.074932  0.078084  0.080416  \n",
       "CO   0.107418  0.122048  0.162460  0.215321  0.263293  0.290061  0.275544  \n",
       "NO   0.106326  0.129356  0.169737  0.211755  0.236967  0.231434  0.181179  \n",
       "\n",
       "[5 rows x 1168 columns]"
      ]
     },
     "execution_count": 27,
     "metadata": {},
     "output_type": "execute_result"
    }
   ],
   "source": [
    "data_72_corr.head()"
   ]
  },
  {
   "cell_type": "markdown",
   "metadata": {},
   "source": [
    "### Correlación entre O3 y los demás contaminantes\n"
   ]
  },
  {
   "cell_type": "markdown",
   "metadata": {},
   "source": [
    "El O3 es uno de los contaminantes cuyos valores determinan las contingencias ambientales, interesa saber de que manera se correlacionan con los demás contaminantes y en que ciclos de tiempo dicha correlación es más fuerte.\n",
    "\n",
    "Se graficará esta correlación para el rango de 0 a 72 horas obtenido en la sección anterior.\n",
    "\n",
    "Antes de correr la correlación se le vuelve a dar estructura al dataframe para poder graficar de manera óptima."
   ]
  },
  {
   "cell_type": "code",
   "execution_count": 29,
   "metadata": {},
   "outputs": [],
   "source": [
    "# Se aísla sólo la columna que corresponde al O3\n",
    "O3_72 = data_72_corr[[\"O3\"]]"
   ]
  },
  {
   "cell_type": "code",
   "execution_count": 30,
   "metadata": {},
   "outputs": [],
   "source": [
    "# Se reinicia el índice del dataframe\n",
    "O3_72.reset_index(inplace=True)"
   ]
  },
  {
   "cell_type": "code",
   "execution_count": 31,
   "metadata": {},
   "outputs": [],
   "source": [
    "# Se renombran las columnas para mayor comprensión\n",
    "O3_72.columns = ['contaminante', 'valor']"
   ]
  },
  {
   "cell_type": "markdown",
   "metadata": {},
   "source": [
    "El dataframe tendrá la siguiente estructura"
   ]
  },
  {
   "cell_type": "code",
   "execution_count": 32,
   "metadata": {},
   "outputs": [
    {
     "data": {
      "text/html": [
       "<div>\n",
       "<style scoped>\n",
       "    .dataframe tbody tr th:only-of-type {\n",
       "        vertical-align: middle;\n",
       "    }\n",
       "\n",
       "    .dataframe tbody tr th {\n",
       "        vertical-align: top;\n",
       "    }\n",
       "\n",
       "    .dataframe thead th {\n",
       "        text-align: right;\n",
       "    }\n",
       "</style>\n",
       "<table border=\"1\" class=\"dataframe\">\n",
       "  <thead>\n",
       "    <tr style=\"text-align: right;\">\n",
       "      <th></th>\n",
       "      <th>contaminante</th>\n",
       "      <th>valor</th>\n",
       "    </tr>\n",
       "  </thead>\n",
       "  <tbody>\n",
       "    <tr>\n",
       "      <th>0</th>\n",
       "      <td>UVA</td>\n",
       "      <td>0.637839</td>\n",
       "    </tr>\n",
       "    <tr>\n",
       "      <th>1</th>\n",
       "      <td>UVB</td>\n",
       "      <td>0.630518</td>\n",
       "    </tr>\n",
       "    <tr>\n",
       "      <th>2</th>\n",
       "      <td>PA</td>\n",
       "      <td>-0.113144</td>\n",
       "    </tr>\n",
       "    <tr>\n",
       "      <th>3</th>\n",
       "      <td>CO</td>\n",
       "      <td>-0.307126</td>\n",
       "    </tr>\n",
       "    <tr>\n",
       "      <th>4</th>\n",
       "      <td>NO</td>\n",
       "      <td>-0.434313</td>\n",
       "    </tr>\n",
       "  </tbody>\n",
       "</table>\n",
       "</div>"
      ],
      "text/plain": [
       "  contaminante     valor\n",
       "0          UVA  0.637839\n",
       "1          UVB  0.630518\n",
       "2           PA -0.113144\n",
       "3           CO -0.307126\n",
       "4           NO -0.434313"
      ]
     },
     "execution_count": 32,
     "metadata": {},
     "output_type": "execute_result"
    }
   ],
   "source": [
    "O3_72.head()"
   ]
  },
  {
   "cell_type": "code",
   "execution_count": 34,
   "metadata": {},
   "outputs": [],
   "source": [
    "hora_0_o3 = O3_72.loc[0:15]"
   ]
  },
  {
   "cell_type": "code",
   "execution_count": 35,
   "metadata": {},
   "outputs": [],
   "source": [
    "hora_0_o3.drop(['contaminante'], axis=1, inplace = True)"
   ]
  },
  {
   "cell_type": "code",
   "execution_count": 36,
   "metadata": {},
   "outputs": [],
   "source": [
    "hora_0_o3 = hora_0_o3.transpose()"
   ]
  },
  {
   "cell_type": "code",
   "execution_count": 37,
   "metadata": {},
   "outputs": [],
   "source": [
    "hora_0_o3.columns = ['UVA', 'UVB', 'PA', 'CO', 'NO', 'NO2', 'NOX', 'O3', 'PM25', 'PMCO', 'SO2', 'RH', 'TMP'\n",
    "                  , 'WSP', 'WDR', 'PM10']"
   ]
  },
  {
   "cell_type": "code",
   "execution_count": 38,
   "metadata": {},
   "outputs": [],
   "source": [
    "hora_0_o3 = hora_0_o3.reset_index(drop=True)"
   ]
  },
  {
   "cell_type": "code",
   "execution_count": 39,
   "metadata": {},
   "outputs": [
    {
     "data": {
      "text/html": [
       "<div>\n",
       "<style scoped>\n",
       "    .dataframe tbody tr th:only-of-type {\n",
       "        vertical-align: middle;\n",
       "    }\n",
       "\n",
       "    .dataframe tbody tr th {\n",
       "        vertical-align: top;\n",
       "    }\n",
       "\n",
       "    .dataframe thead th {\n",
       "        text-align: right;\n",
       "    }\n",
       "</style>\n",
       "<table border=\"1\" class=\"dataframe\">\n",
       "  <thead>\n",
       "    <tr style=\"text-align: right;\">\n",
       "      <th></th>\n",
       "      <th>UVA</th>\n",
       "      <th>UVB</th>\n",
       "      <th>PA</th>\n",
       "      <th>CO</th>\n",
       "      <th>NO</th>\n",
       "      <th>NO2</th>\n",
       "      <th>NOX</th>\n",
       "      <th>O3</th>\n",
       "      <th>PM25</th>\n",
       "      <th>PMCO</th>\n",
       "      <th>SO2</th>\n",
       "      <th>RH</th>\n",
       "      <th>TMP</th>\n",
       "      <th>WSP</th>\n",
       "      <th>WDR</th>\n",
       "      <th>PM10</th>\n",
       "    </tr>\n",
       "  </thead>\n",
       "  <tbody>\n",
       "    <tr>\n",
       "      <th>0</th>\n",
       "      <td>0.637839</td>\n",
       "      <td>0.630518</td>\n",
       "      <td>-0.113144</td>\n",
       "      <td>-0.307126</td>\n",
       "      <td>-0.434313</td>\n",
       "      <td>-0.248507</td>\n",
       "      <td>-0.43146</td>\n",
       "      <td>1.0</td>\n",
       "      <td>0.236128</td>\n",
       "      <td>0.157639</td>\n",
       "      <td>-0.100684</td>\n",
       "      <td>-0.71309</td>\n",
       "      <td>0.828244</td>\n",
       "      <td>0.435946</td>\n",
       "      <td>-0.240342</td>\n",
       "      <td>0.163479</td>\n",
       "    </tr>\n",
       "  </tbody>\n",
       "</table>\n",
       "</div>"
      ],
      "text/plain": [
       "        UVA       UVB        PA        CO        NO       NO2      NOX   O3  \\\n",
       "0  0.637839  0.630518 -0.113144 -0.307126 -0.434313 -0.248507 -0.43146  1.0   \n",
       "\n",
       "       PM25      PMCO       SO2       RH       TMP       WSP       WDR  \\\n",
       "0  0.236128  0.157639 -0.100684 -0.71309  0.828244  0.435946 -0.240342   \n",
       "\n",
       "       PM10  \n",
       "0  0.163479  "
      ]
     },
     "execution_count": 39,
     "metadata": {},
     "output_type": "execute_result"
    }
   ],
   "source": [
    "hora_0_o3.head()"
   ]
  },
  {
   "cell_type": "code",
   "execution_count": 40,
   "metadata": {},
   "outputs": [
    {
     "data": {
      "text/plain": [
       "(1152, 2)"
      ]
     },
     "execution_count": 40,
     "metadata": {},
     "output_type": "execute_result"
    }
   ],
   "source": [
    "hora_72_o3 = O3_72.loc[16:]\n",
    "hora_72_o3.shape"
   ]
  },
  {
   "cell_type": "code",
   "execution_count": 41,
   "metadata": {},
   "outputs": [],
   "source": [
    "dfs_72_o3 = \\\n",
    "{name: group for name, group in hora_72_o3.groupby(np.arange(1152) // 72)}"
   ]
  },
  {
   "cell_type": "code",
   "execution_count": 42,
   "metadata": {},
   "outputs": [],
   "source": [
    "for i in range(0,16):\n",
    "    dfs_72_o3[i] = dfs_72_o3[i].reset_index(drop = True)"
   ]
  },
  {
   "cell_type": "code",
   "execution_count": 43,
   "metadata": {},
   "outputs": [],
   "source": [
    "hora_72_o3_c = pd.concat({k:v for (k,v) in dfs_72_o3.items()}, axis = 1)"
   ]
  },
  {
   "cell_type": "code",
   "execution_count": 44,
   "metadata": {},
   "outputs": [],
   "source": [
    "hora_72_o3_c.columns = hora_72_o3_c.columns.droplevel()"
   ]
  },
  {
   "cell_type": "code",
   "execution_count": 45,
   "metadata": {},
   "outputs": [],
   "source": [
    "hora_72_o3_c.drop(['contaminante'], axis=1, inplace = True)"
   ]
  },
  {
   "cell_type": "code",
   "execution_count": 46,
   "metadata": {},
   "outputs": [],
   "source": [
    "hora_72_o3_c.columns = ['UVA', 'UVB', 'PA', 'CO', 'NO', 'NO2', 'NOX', 'O3', 'PM25', 'PMCO', 'SO2', 'RH'\n",
    "             , 'TMP', 'WSP', 'WDR', 'PM10']"
   ]
  },
  {
   "cell_type": "code",
   "execution_count": 48,
   "metadata": {},
   "outputs": [
    {
     "data": {
      "text/html": [
       "<div>\n",
       "<style scoped>\n",
       "    .dataframe tbody tr th:only-of-type {\n",
       "        vertical-align: middle;\n",
       "    }\n",
       "\n",
       "    .dataframe tbody tr th {\n",
       "        vertical-align: top;\n",
       "    }\n",
       "\n",
       "    .dataframe thead th {\n",
       "        text-align: right;\n",
       "    }\n",
       "</style>\n",
       "<table border=\"1\" class=\"dataframe\">\n",
       "  <thead>\n",
       "    <tr style=\"text-align: right;\">\n",
       "      <th></th>\n",
       "      <th>UVA</th>\n",
       "      <th>UVB</th>\n",
       "      <th>PA</th>\n",
       "      <th>CO</th>\n",
       "      <th>NO</th>\n",
       "      <th>NO2</th>\n",
       "      <th>NOX</th>\n",
       "      <th>O3</th>\n",
       "      <th>PM25</th>\n",
       "      <th>PMCO</th>\n",
       "      <th>SO2</th>\n",
       "      <th>RH</th>\n",
       "      <th>TMP</th>\n",
       "      <th>WSP</th>\n",
       "      <th>WDR</th>\n",
       "      <th>PM10</th>\n",
       "    </tr>\n",
       "  </thead>\n",
       "  <tbody>\n",
       "    <tr>\n",
       "      <th>0</th>\n",
       "      <td>0.765117</td>\n",
       "      <td>0.754991</td>\n",
       "      <td>-0.080702</td>\n",
       "      <td>-0.185708</td>\n",
       "      <td>-0.324120</td>\n",
       "      <td>-0.147038</td>\n",
       "      <td>-0.309422</td>\n",
       "      <td>0.940698</td>\n",
       "      <td>0.339028</td>\n",
       "      <td>0.186335</td>\n",
       "      <td>-0.055020</td>\n",
       "      <td>-0.671755</td>\n",
       "      <td>0.773338</td>\n",
       "      <td>0.310206</td>\n",
       "      <td>-0.302206</td>\n",
       "      <td>0.216998</td>\n",
       "    </tr>\n",
       "    <tr>\n",
       "      <th>1</th>\n",
       "      <td>0.802419</td>\n",
       "      <td>0.785276</td>\n",
       "      <td>-0.047122</td>\n",
       "      <td>-0.026633</td>\n",
       "      <td>-0.160734</td>\n",
       "      <td>-0.025243</td>\n",
       "      <td>-0.137854</td>\n",
       "      <td>0.797727</td>\n",
       "      <td>0.416837</td>\n",
       "      <td>0.230587</td>\n",
       "      <td>-0.005294</td>\n",
       "      <td>-0.579908</td>\n",
       "      <td>0.655619</td>\n",
       "      <td>0.179039</td>\n",
       "      <td>-0.341931</td>\n",
       "      <td>0.282632</td>\n",
       "    </tr>\n",
       "    <tr>\n",
       "      <th>2</th>\n",
       "      <td>0.751004</td>\n",
       "      <td>0.723152</td>\n",
       "      <td>-0.017447</td>\n",
       "      <td>0.147279</td>\n",
       "      <td>0.037981</td>\n",
       "      <td>0.093016</td>\n",
       "      <td>0.061036</td>\n",
       "      <td>0.600658</td>\n",
       "      <td>0.463512</td>\n",
       "      <td>0.275272</td>\n",
       "      <td>0.043611</td>\n",
       "      <td>-0.449511</td>\n",
       "      <td>0.490207</td>\n",
       "      <td>0.043928</td>\n",
       "      <td>-0.354826</td>\n",
       "      <td>0.344972</td>\n",
       "    </tr>\n",
       "    <tr>\n",
       "      <th>3</th>\n",
       "      <td>0.626835</td>\n",
       "      <td>0.587265</td>\n",
       "      <td>0.004856</td>\n",
       "      <td>0.303889</td>\n",
       "      <td>0.238007</td>\n",
       "      <td>0.187485</td>\n",
       "      <td>0.253198</td>\n",
       "      <td>0.380821</td>\n",
       "      <td>0.475369</td>\n",
       "      <td>0.304647</td>\n",
       "      <td>0.084618</td>\n",
       "      <td>-0.296354</td>\n",
       "      <td>0.296866</td>\n",
       "      <td>-0.088042</td>\n",
       "      <td>-0.341393</td>\n",
       "      <td>0.387392</td>\n",
       "    </tr>\n",
       "    <tr>\n",
       "      <th>4</th>\n",
       "      <td>0.455851</td>\n",
       "      <td>0.407691</td>\n",
       "      <td>0.017581</td>\n",
       "      <td>0.413662</td>\n",
       "      <td>0.404089</td>\n",
       "      <td>0.244005</td>\n",
       "      <td>0.405581</td>\n",
       "      <td>0.166247</td>\n",
       "      <td>0.452752</td>\n",
       "      <td>0.306708</td>\n",
       "      <td>0.112308</td>\n",
       "      <td>-0.137781</td>\n",
       "      <td>0.097082</td>\n",
       "      <td>-0.209079</td>\n",
       "      <td>-0.306782</td>\n",
       "      <td>0.397620</td>\n",
       "    </tr>\n",
       "  </tbody>\n",
       "</table>\n",
       "</div>"
      ],
      "text/plain": [
       "        UVA       UVB        PA        CO        NO       NO2       NOX  \\\n",
       "0  0.765117  0.754991 -0.080702 -0.185708 -0.324120 -0.147038 -0.309422   \n",
       "1  0.802419  0.785276 -0.047122 -0.026633 -0.160734 -0.025243 -0.137854   \n",
       "2  0.751004  0.723152 -0.017447  0.147279  0.037981  0.093016  0.061036   \n",
       "3  0.626835  0.587265  0.004856  0.303889  0.238007  0.187485  0.253198   \n",
       "4  0.455851  0.407691  0.017581  0.413662  0.404089  0.244005  0.405581   \n",
       "\n",
       "         O3      PM25      PMCO       SO2        RH       TMP       WSP  \\\n",
       "0  0.940698  0.339028  0.186335 -0.055020 -0.671755  0.773338  0.310206   \n",
       "1  0.797727  0.416837  0.230587 -0.005294 -0.579908  0.655619  0.179039   \n",
       "2  0.600658  0.463512  0.275272  0.043611 -0.449511  0.490207  0.043928   \n",
       "3  0.380821  0.475369  0.304647  0.084618 -0.296354  0.296866 -0.088042   \n",
       "4  0.166247  0.452752  0.306708  0.112308 -0.137781  0.097082 -0.209079   \n",
       "\n",
       "        WDR      PM10  \n",
       "0 -0.302206  0.216998  \n",
       "1 -0.341931  0.282632  \n",
       "2 -0.354826  0.344972  \n",
       "3 -0.341393  0.387392  \n",
       "4 -0.306782  0.397620  "
      ]
     },
     "execution_count": 48,
     "metadata": {},
     "output_type": "execute_result"
    }
   ],
   "source": [
    "hora_72_o3_c.head()"
   ]
  },
  {
   "cell_type": "code",
   "execution_count": 49,
   "metadata": {},
   "outputs": [],
   "source": [
    "O3_72_df = pd.concat([hora_0_o3, hora_72_o3_c], axis=0, join='outer', ignore_index=True)"
   ]
  },
  {
   "cell_type": "code",
   "execution_count": 50,
   "metadata": {},
   "outputs": [],
   "source": [
    "horas = O3_72_df.index\n",
    "O3_72_df.insert(loc=0, column='horas', value=horas)"
   ]
  },
  {
   "cell_type": "code",
   "execution_count": 51,
   "metadata": {},
   "outputs": [
    {
     "data": {
      "text/html": [
       "<div>\n",
       "<style scoped>\n",
       "    .dataframe tbody tr th:only-of-type {\n",
       "        vertical-align: middle;\n",
       "    }\n",
       "\n",
       "    .dataframe tbody tr th {\n",
       "        vertical-align: top;\n",
       "    }\n",
       "\n",
       "    .dataframe thead th {\n",
       "        text-align: right;\n",
       "    }\n",
       "</style>\n",
       "<table border=\"1\" class=\"dataframe\">\n",
       "  <thead>\n",
       "    <tr style=\"text-align: right;\">\n",
       "      <th></th>\n",
       "      <th>horas</th>\n",
       "      <th>UVA</th>\n",
       "      <th>UVB</th>\n",
       "      <th>PA</th>\n",
       "      <th>CO</th>\n",
       "      <th>NO</th>\n",
       "      <th>NO2</th>\n",
       "      <th>NOX</th>\n",
       "      <th>O3</th>\n",
       "      <th>PM25</th>\n",
       "      <th>PMCO</th>\n",
       "      <th>SO2</th>\n",
       "      <th>RH</th>\n",
       "      <th>TMP</th>\n",
       "      <th>WSP</th>\n",
       "      <th>WDR</th>\n",
       "      <th>PM10</th>\n",
       "    </tr>\n",
       "  </thead>\n",
       "  <tbody>\n",
       "    <tr>\n",
       "      <th>0</th>\n",
       "      <td>0</td>\n",
       "      <td>0.637839</td>\n",
       "      <td>0.630518</td>\n",
       "      <td>-0.113144</td>\n",
       "      <td>-0.307126</td>\n",
       "      <td>-0.434313</td>\n",
       "      <td>-0.248507</td>\n",
       "      <td>-0.431460</td>\n",
       "      <td>1.000000</td>\n",
       "      <td>0.236128</td>\n",
       "      <td>0.157639</td>\n",
       "      <td>-0.100684</td>\n",
       "      <td>-0.713090</td>\n",
       "      <td>0.828244</td>\n",
       "      <td>0.435946</td>\n",
       "      <td>-0.240342</td>\n",
       "      <td>0.163479</td>\n",
       "    </tr>\n",
       "    <tr>\n",
       "      <th>1</th>\n",
       "      <td>1</td>\n",
       "      <td>0.765117</td>\n",
       "      <td>0.754991</td>\n",
       "      <td>-0.080702</td>\n",
       "      <td>-0.185708</td>\n",
       "      <td>-0.324120</td>\n",
       "      <td>-0.147038</td>\n",
       "      <td>-0.309422</td>\n",
       "      <td>0.940698</td>\n",
       "      <td>0.339028</td>\n",
       "      <td>0.186335</td>\n",
       "      <td>-0.055020</td>\n",
       "      <td>-0.671755</td>\n",
       "      <td>0.773338</td>\n",
       "      <td>0.310206</td>\n",
       "      <td>-0.302206</td>\n",
       "      <td>0.216998</td>\n",
       "    </tr>\n",
       "    <tr>\n",
       "      <th>2</th>\n",
       "      <td>2</td>\n",
       "      <td>0.802419</td>\n",
       "      <td>0.785276</td>\n",
       "      <td>-0.047122</td>\n",
       "      <td>-0.026633</td>\n",
       "      <td>-0.160734</td>\n",
       "      <td>-0.025243</td>\n",
       "      <td>-0.137854</td>\n",
       "      <td>0.797727</td>\n",
       "      <td>0.416837</td>\n",
       "      <td>0.230587</td>\n",
       "      <td>-0.005294</td>\n",
       "      <td>-0.579908</td>\n",
       "      <td>0.655619</td>\n",
       "      <td>0.179039</td>\n",
       "      <td>-0.341931</td>\n",
       "      <td>0.282632</td>\n",
       "    </tr>\n",
       "    <tr>\n",
       "      <th>3</th>\n",
       "      <td>3</td>\n",
       "      <td>0.751004</td>\n",
       "      <td>0.723152</td>\n",
       "      <td>-0.017447</td>\n",
       "      <td>0.147279</td>\n",
       "      <td>0.037981</td>\n",
       "      <td>0.093016</td>\n",
       "      <td>0.061036</td>\n",
       "      <td>0.600658</td>\n",
       "      <td>0.463512</td>\n",
       "      <td>0.275272</td>\n",
       "      <td>0.043611</td>\n",
       "      <td>-0.449511</td>\n",
       "      <td>0.490207</td>\n",
       "      <td>0.043928</td>\n",
       "      <td>-0.354826</td>\n",
       "      <td>0.344972</td>\n",
       "    </tr>\n",
       "    <tr>\n",
       "      <th>4</th>\n",
       "      <td>4</td>\n",
       "      <td>0.626835</td>\n",
       "      <td>0.587265</td>\n",
       "      <td>0.004856</td>\n",
       "      <td>0.303889</td>\n",
       "      <td>0.238007</td>\n",
       "      <td>0.187485</td>\n",
       "      <td>0.253198</td>\n",
       "      <td>0.380821</td>\n",
       "      <td>0.475369</td>\n",
       "      <td>0.304647</td>\n",
       "      <td>0.084618</td>\n",
       "      <td>-0.296354</td>\n",
       "      <td>0.296866</td>\n",
       "      <td>-0.088042</td>\n",
       "      <td>-0.341393</td>\n",
       "      <td>0.387392</td>\n",
       "    </tr>\n",
       "  </tbody>\n",
       "</table>\n",
       "</div>"
      ],
      "text/plain": [
       "   horas       UVA       UVB        PA        CO        NO       NO2  \\\n",
       "0      0  0.637839  0.630518 -0.113144 -0.307126 -0.434313 -0.248507   \n",
       "1      1  0.765117  0.754991 -0.080702 -0.185708 -0.324120 -0.147038   \n",
       "2      2  0.802419  0.785276 -0.047122 -0.026633 -0.160734 -0.025243   \n",
       "3      3  0.751004  0.723152 -0.017447  0.147279  0.037981  0.093016   \n",
       "4      4  0.626835  0.587265  0.004856  0.303889  0.238007  0.187485   \n",
       "\n",
       "        NOX        O3      PM25      PMCO       SO2        RH       TMP  \\\n",
       "0 -0.431460  1.000000  0.236128  0.157639 -0.100684 -0.713090  0.828244   \n",
       "1 -0.309422  0.940698  0.339028  0.186335 -0.055020 -0.671755  0.773338   \n",
       "2 -0.137854  0.797727  0.416837  0.230587 -0.005294 -0.579908  0.655619   \n",
       "3  0.061036  0.600658  0.463512  0.275272  0.043611 -0.449511  0.490207   \n",
       "4  0.253198  0.380821  0.475369  0.304647  0.084618 -0.296354  0.296866   \n",
       "\n",
       "        WSP       WDR      PM10  \n",
       "0  0.435946 -0.240342  0.163479  \n",
       "1  0.310206 -0.302206  0.216998  \n",
       "2  0.179039 -0.341931  0.282632  \n",
       "3  0.043928 -0.354826  0.344972  \n",
       "4 -0.088042 -0.341393  0.387392  "
      ]
     },
     "execution_count": 51,
     "metadata": {},
     "output_type": "execute_result"
    }
   ],
   "source": [
    "O3_72_df.head()"
   ]
  },
  {
   "cell_type": "code",
   "execution_count": 52,
   "metadata": {},
   "outputs": [],
   "source": [
    "O3_72_df.to_csv(r'/home/pradel/Desktop/Forecast_CDMX_pollution/correlacion/sub_dataset/corr_o3_72.csv')"
   ]
  },
  {
   "cell_type": "code",
   "execution_count": 54,
   "metadata": {},
   "outputs": [
    {
     "data": {
      "image/png": "[encoded data removed]",
      "text/plain": [
       "<Figure size 1008x648 with 1 Axes>"
      ]
     },
     "metadata": {
      "needs_background": "light"
     },
     "output_type": "display_data"
    }
   ],
   "source": [
    "fig, ax = plt.subplots(figsize=(14,9))\n",
    "o3_pm25 = sns.lineplot(x = 'horas', y = 'PM25', data = O3_72_df, marker = 'o',  color='b', ax=ax)\n",
    "\n",
    "o3_pm25.axes.set_title(\"Correlacion entre O3 y PM2.5\",fontsize=20)\n",
    "o3_pm25.set_xlabel(\"Horas\",fontsize=15)\n",
    "o3_pm25.set_ylabel(\"Correlación\",fontsize=15)\n",
    "o3_pm25.tick_params(labelsize=10)\n",
    "plt.show()"
   ]
  },
  {
   "cell_type": "code",
   "execution_count": 56,
   "metadata": {},
   "outputs": [
    {
     "data": {
      "image/png": "[encoded data removed]",
      "text/plain": [
       "<Figure size 1008x648 with 1 Axes>"
      ]
     },
     "metadata": {
      "needs_background": "light"
     },
     "output_type": "display_data"
    }
   ],
   "source": [
    "fig, ax = plt.subplots(figsize=(14,9))\n",
    "o3_pm10 = sns.lineplot(x = 'horas', y = 'PM10', data = O3_72_df, marker = 'o',  color='#FF9633', ax=ax)\n",
    "\n",
    "o3_pm10.axes.set_title(\"Correlacion entre O3 y PM10\",fontsize=20)\n",
    "o3_pm10.set_xlabel(\"Horas\",fontsize=15)\n",
    "o3_pm10.set_ylabel(\"Correlación\",fontsize=15)\n",
    "o3_pm10.tick_params(labelsize=10)\n",
    "plt.show()"
   ]
  },
  {
   "cell_type": "code",
   "execution_count": null,
   "metadata": {},
   "outputs": [],
   "source": []
  }
 ],
 "metadata": {
  "kernelspec": {
   "display_name": "Python 3",
   "language": "python",
   "name": "python3"
  },
  "language_info": {
   "codemirror_mode": {
    "name": "ipython",
    "version": 3
   },
   "file_extension": ".py",
   "mimetype": "text/x-python",
   "name": "python",
   "nbconvert_exporter": "python",
   "pygments_lexer": "ipython3",
   "version": "3.6.8"
  }
 },
 "nbformat": 4,
 "nbformat_minor": 2
}
