{
 "cells": [
  {
   "cell_type": "markdown",
   "metadata": {},
   "source": [
    "# Correlaciones"
   ]
  },
  {
   "cell_type": "markdown",
   "metadata": {},
   "source": [
    "Se hace la correlación cruzada (cross correlation) entre los distintos contaminantes. Se saca un promedio de todas las estaciones."
   ]
  },
  {
   "cell_type": "markdown",
   "metadata": {},
   "source": [
    "## I. Importar datos."
   ]
  },
  {
   "cell_type": "markdown",
   "metadata": {},
   "source": [
    "Se comienza agregando las bibliotecas necesarias de python al archivo. Las que vienen por default en este notebook son las requeridas para importar y exportar archivos _csv_, manipular dataframes en _pandas_, y graficar resultados usando _seaborn_ con algún nivel de interactividad haciendo uso de _widgets_.\n",
    "\n",
    "Dependiendo del tipo de archivo en donde se tengan los datos, o bien la herramienta de visualización, se deben agregar las bibliotecas necesarias.\n",
    "\n",
    "Se debe de tomar en cuenta el path en el que se encuentre el archivo con los datos y modificarlo a demanda en la parte correspondiente.\n",
    "\n",
    "Para ejecutar este notebook es necesario que el archivo con los datos **ya se encuentre limpio**. De lo contrario pueden aparecer resultados no deseados o \"raros\" en las matrices de correlación."
   ]
  },
  {
   "cell_type": "code",
   "execution_count": 1,
   "metadata": {},
   "outputs": [],
   "source": [
    "# Bibliotecas necesarias para correr este notebook\n",
    "\n",
    "from __future__ import print_function\n",
    "from ipywidgets import interact, interactive, fixed, interact_manual\n",
    "import ipywidgets as widgets\n",
    "\n",
    "from scipy import stats\n",
    "\n",
    "import os\n",
    "import numpy as np\n",
    "import pandas as pd\n",
    "import matplotlib.pyplot as plt\n",
    "import seaborn as sns\n",
    "\n",
    "import warnings\n",
    "warnings.filterwarnings('ignore')\n",
    "\n",
   ]
  },
  {
   "cell_type": "code",
   "execution_count": 2,
   "metadata": {},
   "outputs": [],
   "source": [
    "# Se importa el archivo csv con los datos usando pandas (se carga como un dataframe)\n",
    "\n",
    "data = pd.read_csv(\"data_sample.csv\")"
   ]
  },
  {
   "cell_type": "code",
   "execution_count": 3,
   "metadata": {},
   "outputs": [
    {
     "data": {
      "text/html": [
       "<div>\n",
       "<style scoped>\n",
       "    .dataframe tbody tr th:only-of-type {\n",
       "        vertical-align: middle;\n",
       "    }\n",
       "\n",
       "    .dataframe tbody tr th {\n",
       "        vertical-align: top;\n",
       "    }\n",
       "\n",
       "    .dataframe thead th {\n",
       "        text-align: right;\n",
       "    }\n",
       "</style>\n",
       "<table border=\"1\" class=\"dataframe\">\n",
       "  <thead>\n",
       "    <tr style=\"text-align: right;\">\n",
       "      <th></th>\n",
       "      <th>fecha</th>\n",
       "      <th>UVA</th>\n",
       "      <th>UVB</th>\n",
       "      <th>PA</th>\n",
       "      <th>CO</th>\n",
       "      <th>NO</th>\n",
       "      <th>NO2</th>\n",
       "      <th>NOX</th>\n",
       "      <th>O3</th>\n",
       "      <th>PM2.5</th>\n",
       "      <th>PMCO</th>\n",
       "      <th>SO2</th>\n",
       "      <th>RH</th>\n",
       "      <th>TMP</th>\n",
       "      <th>WSP</th>\n",
       "      <th>WDR</th>\n",
       "      <th>PM10</th>\n",
       "    </tr>\n",
       "  </thead>\n",
       "  <tbody>\n",
       "    <tr>\n",
       "      <th>0</th>\n",
       "      <td>2012-01-01 00:00:00</td>\n",
       "      <td>0.0</td>\n",
       "      <td>0.0</td>\n",
       "      <td>590.0</td>\n",
       "      <td>0.3</td>\n",
       "      <td>2.6</td>\n",
       "      <td>13.8</td>\n",
       "      <td>16.2</td>\n",
       "      <td>15.1</td>\n",
       "      <td>9.4</td>\n",
       "      <td>6.3</td>\n",
       "      <td>1.6</td>\n",
       "      <td>68.3</td>\n",
       "      <td>11.4</td>\n",
       "      <td>3.2</td>\n",
       "      <td>294.9</td>\n",
       "      <td>14.8</td>\n",
       "    </tr>\n",
       "    <tr>\n",
       "      <th>1</th>\n",
       "      <td>2012-01-01 01:00:00</td>\n",
       "      <td>0.0</td>\n",
       "      <td>0.0</td>\n",
       "      <td>587.0</td>\n",
       "      <td>1.4</td>\n",
       "      <td>30.0</td>\n",
       "      <td>39.8</td>\n",
       "      <td>69.5</td>\n",
       "      <td>5.5</td>\n",
       "      <td>77.0</td>\n",
       "      <td>136.9</td>\n",
       "      <td>7.2</td>\n",
       "      <td>68.8</td>\n",
       "      <td>9.7</td>\n",
       "      <td>1.4</td>\n",
       "      <td>180.0</td>\n",
       "      <td>174.3</td>\n",
       "    </tr>\n",
       "    <tr>\n",
       "      <th>2</th>\n",
       "      <td>2012-01-01 02:00:00</td>\n",
       "      <td>0.0</td>\n",
       "      <td>0.0</td>\n",
       "      <td>587.0</td>\n",
       "      <td>1.7</td>\n",
       "      <td>39.7</td>\n",
       "      <td>40.0</td>\n",
       "      <td>79.6</td>\n",
       "      <td>4.3</td>\n",
       "      <td>121.0</td>\n",
       "      <td>38.0</td>\n",
       "      <td>8.2</td>\n",
       "      <td>72.6</td>\n",
       "      <td>9.1</td>\n",
       "      <td>1.6</td>\n",
       "      <td>139.6</td>\n",
       "      <td>164.6</td>\n",
       "    </tr>\n",
       "    <tr>\n",
       "      <th>3</th>\n",
       "      <td>2012-01-01 03:00:00</td>\n",
       "      <td>0.0</td>\n",
       "      <td>0.0</td>\n",
       "      <td>587.0</td>\n",
       "      <td>1.8</td>\n",
       "      <td>40.8</td>\n",
       "      <td>39.1</td>\n",
       "      <td>79.6</td>\n",
       "      <td>4.6</td>\n",
       "      <td>125.1</td>\n",
       "      <td>36.7</td>\n",
       "      <td>7.6</td>\n",
       "      <td>74.1</td>\n",
       "      <td>8.6</td>\n",
       "      <td>1.1</td>\n",
       "      <td>232.6</td>\n",
       "      <td>172.9</td>\n",
       "    </tr>\n",
       "    <tr>\n",
       "      <th>4</th>\n",
       "      <td>2012-01-01 04:00:00</td>\n",
       "      <td>0.0</td>\n",
       "      <td>0.0</td>\n",
       "      <td>587.0</td>\n",
       "      <td>2.0</td>\n",
       "      <td>51.2</td>\n",
       "      <td>37.8</td>\n",
       "      <td>88.9</td>\n",
       "      <td>4.1</td>\n",
       "      <td>129.6</td>\n",
       "      <td>37.0</td>\n",
       "      <td>6.9</td>\n",
       "      <td>75.3</td>\n",
       "      <td>8.2</td>\n",
       "      <td>1.0</td>\n",
       "      <td>225.6</td>\n",
       "      <td>167.6</td>\n",
       "    </tr>\n",
       "  </tbody>\n",
       "</table>\n",
       "</div>"
      ],
      "text/plain": [
       "                 fecha  UVA  UVB     PA   CO    NO   NO2   NOX    O3  PM2.5  \\\n",
       "0  2012-01-01 00:00:00  0.0  0.0  590.0  0.3   2.6  13.8  16.2  15.1    9.4   \n",
       "1  2012-01-01 01:00:00  0.0  0.0  587.0  1.4  30.0  39.8  69.5   5.5   77.0   \n",
       "2  2012-01-01 02:00:00  0.0  0.0  587.0  1.7  39.7  40.0  79.6   4.3  121.0   \n",
       "3  2012-01-01 03:00:00  0.0  0.0  587.0  1.8  40.8  39.1  79.6   4.6  125.1   \n",
       "4  2012-01-01 04:00:00  0.0  0.0  587.0  2.0  51.2  37.8  88.9   4.1  129.6   \n",
       "\n",
       "    PMCO  SO2    RH   TMP  WSP    WDR   PM10  \n",
       "0    6.3  1.6  68.3  11.4  3.2  294.9   14.8  \n",
       "1  136.9  7.2  68.8   9.7  1.4  180.0  174.3  \n",
       "2   38.0  8.2  72.6   9.1  1.6  139.6  164.6  \n",
       "3   36.7  7.6  74.1   8.6  1.1  232.6  172.9  \n",
       "4   37.0  6.9  75.3   8.2  1.0  225.6  167.6  "
      ]
     },
     "execution_count": 3,
     "metadata": {},
     "output_type": "execute_result"
    }
   ],
   "source": [
    "# Se obtienen las primeras 5 filas de nuestro dataframe\n",
    "\n",
    "data.head() "
   ]
  },
  {
   "cell_type": "markdown",
   "metadata": {},
   "source": [
    "## II. Correlaciones"
   ]
  },
  {
   "cell_type": "markdown",
   "metadata": {},
   "source": [
    "La correlación es una herramienta estadística que describe el grado en el que se relacionan dos variables.\n",
    "\n",
    "- Es _positiva_ cuando ambos valores incrementan juntos.\n",
    "- Es _negativa_ cuando un valor disminuye mientras el otro incrementa.\n",
    "\n",
    "La correlación esta normalizada con valores de $-1$ a $1$ y no existe cuando es $0$."
   ]
  },
  {
   "cell_type": "markdown",
   "metadata": {},
   "source": [
    "Para calcular las correlaciones se usa la siguiente fórmula:"
   ]
  },
  {
   "cell_type": "markdown",
   "metadata": {},
   "source": [
    "\\begin{eqnarray}\n",
    "r_{xy} = \\frac{\\displaystyle\\sum_{i=1}^{n} (x_{i}-\\bar{x})(y_{i}-\\bar{y})}{\\sqrt{\\displaystyle\\sum_{i=1}^{n}(x_{i}-\\bar{x})^{2}\\displaystyle\\sum_{i=1}^{n}(y_{i}-\\bar{y})^{2}}}\n",
    "\\end{eqnarray}"
   ]
  },
  {
   "cell_type": "markdown",
   "metadata": {},
   "source": [
    "Usando el método `corr` en `pandas` se obtiene la matriz de correlación entre las variables.\n",
    "\n",
    "Se pueden mostrar las correlaciones específicas entre cada variable a demanda, usando un widget interactivo de python. De esta manera no se pierde uno buscando valores en la matriz."
   ]
  },
  {
   "cell_type": "code",
   "execution_count": 4,
   "metadata": {},
   "outputs": [
    {
     "data": {
      "application/vnd.jupyter.widget-view+json": {
       "model_id": "7ea13c7374d54e7fa4aed8cab6297ef4",
       "version_major": 2,
       "version_minor": 0
      },
      "text/plain": [
       "interactive(children=(Dropdown(description='X', options=('UVA', 'UVB', 'PA', 'CO', 'NO', 'NO2', 'NOX', 'O3', '…"
      ]
     },
     "metadata": {},
     "output_type": "display_data"
    }
   ],
   "source": [
    "@interact\n",
    "def correlaciones(X = list(data.select_dtypes('number').columns),\n",
    "                  Y = list(data.select_dtypes('number').columns)):\n",
    "        \n",
    "    print(f\"Correlación: {data[X].corr(data[Y])}\")"
   ]
  },
  {
   "cell_type": "code",
   "execution_count": 5,
   "metadata": {},
   "outputs": [],
   "source": [
    "# La matriz de correlación se puede guardar como un dataframe.\n",
    "\n",
    "data_corr = data.corr()"
   ]
  },
  {
   "cell_type": "code",
   "execution_count": 6,
   "metadata": {},
   "outputs": [
    {
     "data": {
      "text/html": [
       "<div>\n",
       "<style scoped>\n",
       "    .dataframe tbody tr th:only-of-type {\n",
       "        vertical-align: middle;\n",
       "    }\n",
       "\n",
       "    .dataframe tbody tr th {\n",
       "        vertical-align: top;\n",
       "    }\n",
       "\n",
       "    .dataframe thead th {\n",
       "        text-align: right;\n",
       "    }\n",
       "</style>\n",
       "<table border=\"1\" class=\"dataframe\">\n",
       "  <thead>\n",
       "    <tr style=\"text-align: right;\">\n",
       "      <th></th>\n",
       "      <th>UVA</th>\n",
       "      <th>UVB</th>\n",
       "      <th>PA</th>\n",
       "      <th>CO</th>\n",
       "      <th>NO</th>\n",
       "      <th>NO2</th>\n",
       "      <th>NOX</th>\n",
       "      <th>O3</th>\n",
       "      <th>PM2.5</th>\n",
       "      <th>PMCO</th>\n",
       "      <th>SO2</th>\n",
       "      <th>RH</th>\n",
       "      <th>TMP</th>\n",
       "      <th>WSP</th>\n",
       "      <th>WDR</th>\n",
       "      <th>PM10</th>\n",
       "    </tr>\n",
       "  </thead>\n",
       "  <tbody>\n",
       "    <tr>\n",
       "      <th>UVA</th>\n",
       "      <td>1.000000</td>\n",
       "      <td>0.955600</td>\n",
       "      <td>0.107344</td>\n",
       "      <td>-0.046440</td>\n",
       "      <td>-0.127991</td>\n",
       "      <td>-0.113325</td>\n",
       "      <td>-0.140269</td>\n",
       "      <td>0.637839</td>\n",
       "      <td>0.275274</td>\n",
       "      <td>0.128521</td>\n",
       "      <td>-0.007434</td>\n",
       "      <td>-0.475098</td>\n",
       "      <td>0.579646</td>\n",
       "      <td>0.162357</td>\n",
       "      <td>-0.276112</td>\n",
       "      <td>0.123386</td>\n",
       "    </tr>\n",
       "    <tr>\n",
       "      <th>UVB</th>\n",
       "      <td>0.955600</td>\n",
       "      <td>1.000000</td>\n",
       "      <td>0.069185</td>\n",
       "      <td>-0.089377</td>\n",
       "      <td>-0.166616</td>\n",
       "      <td>-0.131420</td>\n",
       "      <td>-0.177312</td>\n",
       "      <td>0.630518</td>\n",
       "      <td>0.249498</td>\n",
       "      <td>0.093927</td>\n",
       "      <td>-0.018032</td>\n",
       "      <td>-0.466078</td>\n",
       "      <td>0.561885</td>\n",
       "      <td>0.160466</td>\n",
       "      <td>-0.256995</td>\n",
       "      <td>0.086847</td>\n",
       "    </tr>\n",
       "    <tr>\n",
       "      <th>PA</th>\n",
       "      <td>0.107344</td>\n",
       "      <td>0.069185</td>\n",
       "      <td>1.000000</td>\n",
       "      <td>0.184208</td>\n",
       "      <td>0.099352</td>\n",
       "      <td>0.089986</td>\n",
       "      <td>0.109460</td>\n",
       "      <td>-0.113144</td>\n",
       "      <td>0.102240</td>\n",
       "      <td>0.120426</td>\n",
       "      <td>0.069579</td>\n",
       "      <td>0.010163</td>\n",
       "      <td>-0.098367</td>\n",
       "      <td>-0.082458</td>\n",
       "      <td>0.088179</td>\n",
       "      <td>0.076456</td>\n",
       "    </tr>\n",
       "    <tr>\n",
       "      <th>CO</th>\n",
       "      <td>-0.046440</td>\n",
       "      <td>-0.089377</td>\n",
       "      <td>0.184208</td>\n",
       "      <td>1.000000</td>\n",
       "      <td>0.870824</td>\n",
       "      <td>0.726255</td>\n",
       "      <td>0.939645</td>\n",
       "      <td>-0.307126</td>\n",
       "      <td>0.526708</td>\n",
       "      <td>0.470420</td>\n",
       "      <td>0.177904</td>\n",
       "      <td>0.101937</td>\n",
       "      <td>-0.318787</td>\n",
       "      <td>-0.471834</td>\n",
       "      <td>-0.185674</td>\n",
       "      <td>0.593283</td>\n",
       "    </tr>\n",
       "    <tr>\n",
       "      <th>NO</th>\n",
       "      <td>-0.127991</td>\n",
       "      <td>-0.166616</td>\n",
       "      <td>0.099352</td>\n",
       "      <td>0.870824</td>\n",
       "      <td>1.000000</td>\n",
       "      <td>0.460770</td>\n",
       "      <td>0.956901</td>\n",
       "      <td>-0.434313</td>\n",
       "      <td>0.291982</td>\n",
       "      <td>0.373522</td>\n",
       "      <td>0.168676</td>\n",
       "      <td>0.210691</td>\n",
       "      <td>-0.464448</td>\n",
       "      <td>-0.463052</td>\n",
       "      <td>-0.101504</td>\n",
       "      <td>0.423978</td>\n",
       "    </tr>\n",
       "  </tbody>\n",
       "</table>\n",
       "</div>"
      ],
      "text/plain": [
       "          UVA       UVB        PA        CO        NO       NO2       NOX  \\\n",
       "UVA  1.000000  0.955600  0.107344 -0.046440 -0.127991 -0.113325 -0.140269   \n",
       "UVB  0.955600  1.000000  0.069185 -0.089377 -0.166616 -0.131420 -0.177312   \n",
       "PA   0.107344  0.069185  1.000000  0.184208  0.099352  0.089986  0.109460   \n",
       "CO  -0.046440 -0.089377  0.184208  1.000000  0.870824  0.726255  0.939645   \n",
       "NO  -0.127991 -0.166616  0.099352  0.870824  1.000000  0.460770  0.956901   \n",
       "\n",
       "           O3     PM2.5      PMCO       SO2        RH       TMP       WSP  \\\n",
       "UVA  0.637839  0.275274  0.128521 -0.007434 -0.475098  0.579646  0.162357   \n",
       "UVB  0.630518  0.249498  0.093927 -0.018032 -0.466078  0.561885  0.160466   \n",
       "PA  -0.113144  0.102240  0.120426  0.069579  0.010163 -0.098367 -0.082458   \n",
       "CO  -0.307126  0.526708  0.470420  0.177904  0.101937 -0.318787 -0.471834   \n",
       "NO  -0.434313  0.291982  0.373522  0.168676  0.210691 -0.464448 -0.463052   \n",
       "\n",
       "          WDR      PM10  \n",
       "UVA -0.276112  0.123386  \n",
       "UVB -0.256995  0.086847  \n",
       "PA   0.088179  0.076456  \n",
       "CO  -0.185674  0.593283  \n",
       "NO  -0.101504  0.423978  "
      ]
     },
     "execution_count": 6,
     "metadata": {},
     "output_type": "execute_result"
    }
   ],
   "source": [
    "# Primeras cinco filas de la matriz de correlación\n",
    "\n",
    "data_corr.head()"
   ]
  },
  {
   "cell_type": "markdown",
   "metadata": {},
   "source": [
    "## III. Visualización "
   ]
  },
  {
   "cell_type": "markdown",
   "metadata": {},
   "source": [
    "### a. Heatmap\n",
    "\n",
    "Primero se puede visualizar a la matriz de correlación como un mapa de calor. En el siguiente bloque de código se incluye un filtro interactivo (widget) para que el usuario elija a partir de que valor quiere que se muestre la correlación. Es decir si se quieren correlaciones mayores a $\\pm 0.8$, al mover el filtro en ese valor la matriz sólo mostrara ese conjunto de valores.\n",
    "\n",
    "Por otro lado se omiten también valores no relevantes en la visualización, por ello sólo se muestra la triangulación inferior de la matriz."
   ]
  },
  {
   "cell_type": "code",
   "execution_count": 9,
   "metadata": {},
   "outputs": [
    {
     "data": {
      "application/vnd.jupyter.widget-view+json": {
       "model_id": "20f1876064a445e8b3faa2177413e303",
       "version_major": 2,
       "version_minor": 0
      },
      "text/plain": [
       "interactive(children=(FloatSlider(value=0.5, description='x', max=1.0), Output()), _dom_classes=('widget-inter…"
      ]
     },
     "metadata": {},
     "output_type": "display_data"
    }
   ],
   "source": [
    "# Bibliotecas para que no se muestren los \"warnings\".\n",
    "import warnings\n",
    "warnings.filterwarnings('ignore')\n",
    "\n",
    "@interact\n",
    "# Se define la matriz donde se va a graficar el heatmap y el intervalo del widget\n",
    "def matriz_heatmap(x = (0.0,1.0,0.1)):\n",
    "    colormap = plt.cm.RdBu_r\n",
    "    plt.figure(figsize = (17,12))\n",
    "    plt.title(u'Correlaciones', y = 1.05, size = 16)\n",
    "    \n",
    "    # Enmascaramiento\n",
    "    testing = data.corr() # Copia de la matriz de correlación para construir el enmascaramiento\n",
    "    indices = abs(testing) >= x # Encontrar los valores mayores o iguales a x en la matriz de correlación\n",
    "    testing[indices] = 0 # Los valores que cumplen la condición se hacen cero (enmascaramiento)\n",
    "                      \n",
    "    mask = testing[indices].to_numpy() # Se construye un arreglo con el enmascaramiento\n",
    "    mask[np.triu_indices_from(mask)] = True # Se enmascara el triángulo superior de la matriz\n",
    "    print(mask)\n",
    "    \n",
    "    # Omisión de filas y columnas mayores o iguales a 'x'\n",
    "    \n",
    "    # Se indexan  las filas que no contengan valores 0 (cumplen la condición mayor o igual a x)\n",
    "    # Esos índices se guardan en un arreglo (ind_row)\n",
    "    ind_row = []\n",
    "    for i in range(len(mask)):\n",
    "        if (0 in mask[i]) == False:\n",
    "            ind_row.append(i)\n",
    "                        \n",
    "    mask = np.delete(mask, ind_row, 0) # Se elimina de la máscara las filas que no están en el arreglo \n",
    "    \n",
    "    mtz_corr = data.corr() # Se hace otra copia de la matriz de correlación\n",
    "    mtz_corr.drop(data_corr.index[ind_row], inplace=True) # Se eliminan las filas que no están en el arreglo (para tener\n",
    "                                             # el mismo tamaño que el enmascaramiento)\n",
    "    \n",
    "    # Se repite el mismo paso ahora con las columnas. Se transpone la matriz de enmascarmiento para repetir\n",
    "    # el mismo proceso como si fueran filas\n",
    "    mask_col = np.transpose(mask)\n",
    "    ind_col = []\n",
    "    for j in range(len(mask_col)):\n",
    "        if (0 in mask_col[j]) == False:\n",
    "            ind_col.append(j)\n",
    "        \n",
    "    mask = np.delete(mask, ind_col, 1)\n",
    "    \n",
    "    mtz_corr.drop(mtz_corr.columns[ind_col],axis=1,inplace=True)\n",
    "          \n",
    "    # Se grafica t2 (sin las filas y columnas sin valores relevantes) y su enmascaramiento correspondiente\n",
    "    mtz_heatmap = sns.heatmap(mtz_corr, mask=mask, linewidths = 0.1, vmin = -1.0, vmax = 1.0,\n",
    "                     square = True, cmap = colormap, linecolor = 'white', annot = True, annot_kws={\"fontsize\":13})"
   ]
  },
  {
   "cell_type": "markdown",
   "metadata": {},
   "source": [
    "### b. Clustermap"
   ]
  },
  {
   "cell_type": "markdown",
   "metadata": {},
   "source": [
    "Cuando el conjunto de datos sea muy grande, conviene hacer un clustermap (y también repetir el mismo proceso de eliminar filas y columnas con valores no relevantes).\n",
    "\n",
    "El siguiente bloque de código emplea este tipo de visualización "
   ]
  },
  {
   "cell_type": "code",
   "execution_count": 8,
   "metadata": {},
   "outputs": [
    {
     "data": {
      "application/vnd.jupyter.widget-view+json": {
       "model_id": "c05e5d9d191243388f2fc1a26510eed1",
       "version_major": 2,
       "version_minor": 0
      },
      "text/plain": [
       "interactive(children=(FloatSlider(value=0.5, description='x', max=1.0), Output()), _dom_classes=('widget-inter…"
      ]
     },
     "metadata": {},
     "output_type": "display_data"
    }
   ],
   "source": [
    "# Bibliotecas para que no se muestren los \"warnings\".\n",
    "import warnings\n",
    "warnings.filterwarnings('ignore')\n",
    "\n",
    "@interact\n",
    "# Se define la matriz donde se va a graficar el heatmap y el intervalo del widget\n",
    "def matriz_clustermap(x = (0.0,1.0,0.1)):\n",
    "    \n",
    "    # Enmascaramiento\n",
    "    testing = data.corr() # Copia de la matriz de correlación para construir el enmascaramiento\n",
    "    indices = abs(testing) >= x # Encontrar los valores mayores o iguales a x en la matriz de correlación\n",
    "    testing[indices] = 0 # Los valores que cumplen la condición se hacen cero (enmascaramiento)\n",
    "                      \n",
    "    mask = testing[indices].to_numpy() # Se construye un arreglo con el enmascaramiento\n",
    "    mask[np.triu_indices_from(mask)] = True # Se enmascara el triángulo superior de la matriz\n",
    "    \n",
    "    # Omisión de filas y columnas mayores o iguales a 'x'\n",
    "    \n",
    "    # Se indexan  las filas que no contengan valores 0 (cumplen la condición mayor o igual a x)\n",
    "    # Esos índices se guardan en un arreglo (ind_row)\n",
    "    ind_row = []\n",
    "    for i in range(len(mask)):\n",
    "        if (0 in mask[i]) == False:\n",
    "            ind_row.append(i)\n",
    "                        \n",
    "    mask = np.delete(mask, ind_row, 0) # Se elimina de la máscara las filas que no están en el arreglo \n",
    "    \n",
    "    mtz_corr = data.corr() # Se hace otra copia de la matriz de correlación\n",
    "    mtz_corr.drop(data_corr.index[ind_row], inplace=True) # Se eliminan las filas que no están en el arreglo (para tener\n",
    "                                             # el mismo tamaño que el enmascaramiento)\n",
    "    \n",
    "    # Se repite el mismo paso ahora con las columnas. Se transpone la matriz de enmascarmiento para repetir\n",
    "    # el mismo proceso como si fueran filas\n",
    "    mask_col = np.transpose(mask)\n",
    "    ind_col = []\n",
    "    for j in range(len(mask_col)):\n",
    "        if (0 in mask_col[j]) == False:\n",
    "            ind_col.append(j)\n",
    "        \n",
    "    mask = np.delete(mask, ind_col, 1)\n",
    "    \n",
    "    mtz_corr.drop(mtz_corr.columns[ind_col],axis=1,inplace=True)\n",
    "          \n",
    "    # Se grafica t2 (sin las filas y columnas sin valores relevantes) y su enmascaramiento correspondiente\n",
    "    mtz_clustermap = sns.clustermap(mtz_corr, mask=mask,cmap=\"RdBu_r\", annot = True, annot_kws={\"size\": 10},\n",
    "                                   linewidths = 0.1, vmin = -1.0, vmax = 1.0, figsize=(15,10))"
   ]
  },
  {
   "cell_type": "code",
   "execution_count": null,
   "metadata": {},
   "outputs": [],
   "source": []
  }
 ],
 "metadata": {
  "kernelspec": {
   "display_name": "Python 3",
   "language": "python",
   "name": "python3"
  },
  "language_info": {
   "codemirror_mode": {
    "name": "ipython",
    "version": 3
   },
   "file_extension": ".py",
   "mimetype": "text/x-python",
   "name": "python",
   "nbconvert_exporter": "python",
   "pygments_lexer": "ipython3",
   "version": "3.6.8"
  }
 },
 "nbformat": 4,
 "nbformat_minor": 2
}
